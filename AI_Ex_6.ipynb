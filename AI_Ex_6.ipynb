{
  "nbformat": 4,
  "nbformat_minor": 0,
  "metadata": {
    "colab": {
      "provenance": [],
      "include_colab_link": true
    },
    "kernelspec": {
      "name": "python3",
      "display_name": "Python 3"
    },
    "language_info": {
      "name": "python"
    }
  },
  "cells": [
    {
      "cell_type": "markdown",
      "metadata": {
        "id": "view-in-github",
        "colab_type": "text"
      },
      "source": [
        "<a href=\"https://colab.research.google.com/github/KeerthikaNagarajan/Ex-6--AAI/blob/main/AI_Ex_6.ipynb\" target=\"_parent\"><img src=\"https://colab.research.google.com/assets/colab-badge.svg\" alt=\"Open In Colab\"/></a>"
      ]
    },
    {
      "cell_type": "code",
      "source": [
        "import nltk\n",
        "from nltk.corpus import wordnet\n",
        "\n",
        "nltk.download('punkt')\n",
        "nltk.download('averaged_perceptron_tagger')\n",
        "nltk.download('wordnet')\n",
        "\n",
        "def get_synonyms(word):\n",
        "    synonyms = set()\n",
        "    for syn in wordnet.synsets(word):\n",
        "        for lemma in syn.lemmas():\n",
        "            synonyms.add(lemma.name())\n",
        "    return synonyms\n",
        "\n",
        "def process_text_file(file_path):\n",
        "    with open(file_path, 'r') as file:\n",
        "        text = file.read()\n",
        "    return text  # Return the processed text\n",
        "\n",
        "text = process_text_file('sample.txt')\n",
        "\n",
        "# Tokenize the text into sentences\n",
        "sentences = nltk.sent_tokenize(text)\n",
        "\n",
        "for sentence in sentences:\n",
        "    # Tokenize each sentence into words\n",
        "    words = nltk.word_tokenize(sentence)\n",
        "\n",
        "    # Perform part-of-speech tagging\n",
        "    pos_tags = nltk.pos_tag(words)\n",
        "\n",
        "    # Extract verbs\n",
        "    verbs = [word for word, pos in pos_tags if pos.startswith('V')]\n",
        "\n",
        "    # Get synonyms for each verb\n",
        "    for verb in verbs:\n",
        "        synonyms = get_synonyms(verb)\n",
        "        print(f\"Verb: {verb}\")\n",
        "        print(f\"Synonyms: {', '.join(synonyms)}\\n\")"
      ],
      "metadata": {
        "colab": {
          "base_uri": "https://localhost:8080/"
        },
        "id": "gc6mYRLRSwmh",
        "outputId": "0ae9b588-92d8-4a3c-8373-83ab24793864"
      },
      "execution_count": 3,
      "outputs": [
        {
          "output_type": "stream",
          "name": "stdout",
          "text": [
            "Verb: follows\n",
            "Synonyms: take_after, play_along, follow, come_after, keep_abreast, stick_to, keep_an_eye_on, adopt, pursue, comply, conform_to, fall_out, espouse, succeed, watch_over, abide_by, be, accompany, trace, observe, surveil, postdate, come, keep_up, watch, survey, travel_along, stick_with\n",
            "\n",
            "Verb: become\n",
            "Synonyms: suit, turn, go, become, get\n",
            "\n",
            "Verb: confront\n",
            "Synonyms: confront, face_up, present, face\n",
            "\n",
            "Verb: had\n",
            "Synonyms: hold, have, throw, let, own, consume, bear, induce, stimulate, take, birth, accept, possess, deliver, suffer, sustain, receive, ingest, give_birth, make, take_in, experience, feature, give, cause, have_got, get\n",
            "\n",
            "Verb: fallen\n",
            "Synonyms: descend, flow, hang, diminish, decrease, fall_down, fallen, pass, lessen, accrue, strike, shine, light, return, settle, fall, go_down, come, precipitate, devolve, come_down\n",
            "\n",
            "Verb: become\n",
            "Synonyms: suit, turn, go, become, get\n",
            "\n",
            "Verb: learns\n",
            "Synonyms: hear, discover, check, get_wind, get_word, memorize, determine, take, acquire, larn, learn, find_out, memorise, study, ascertain, teach, see, read, get_a_line, watch, pick_up, instruct, con\n",
            "\n",
            "Verb: confronts\n",
            "Synonyms: confront, face_up, present, face\n",
            "\n",
            "Verb: culminating\n",
            "Synonyms: culminate, climax\n",
            "\n",
            "Verb: ends\n",
            "Synonyms: terminal, last, death, remainder, ending, remnant, end, destruction, terminate, cease, conclusion, goal, oddment, close, finish, stop, closing, final_stage\n",
            "\n"
          ]
        },
        {
          "output_type": "stream",
          "name": "stderr",
          "text": [
            "[nltk_data] Downloading package punkt to /root/nltk_data...\n",
            "[nltk_data]   Package punkt is already up-to-date!\n",
            "[nltk_data] Downloading package averaged_perceptron_tagger to\n",
            "[nltk_data]     /root/nltk_data...\n",
            "[nltk_data]   Package averaged_perceptron_tagger is already up-to-\n",
            "[nltk_data]       date!\n",
            "[nltk_data] Downloading package wordnet to /root/nltk_data...\n",
            "[nltk_data]   Package wordnet is already up-to-date!\n"
          ]
        }
      ]
    }
  ]
}