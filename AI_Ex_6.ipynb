{
  "nbformat": 4,
  "nbformat_minor": 0,
  "metadata": {
    "colab": {
      "provenance": [],
      "include_colab_link": true
    },
    "kernelspec": {
      "name": "python3",
      "display_name": "Python 3"
    },
    "language_info": {
      "name": "python"
    }
  },
  "cells": [
    {
      "cell_type": "markdown",
      "metadata": {
        "id": "view-in-github",
        "colab_type": "text"
      },
      "source": [
        "<a href=\"https://colab.research.google.com/github/KeerthikaNagarajan/Ex-6--AAI/blob/main/AI_Ex_6.ipynb\" target=\"_parent\"><img src=\"https://colab.research.google.com/assets/colab-badge.svg\" alt=\"Open In Colab\"/></a>"
      ]
    },
    {
      "cell_type": "code",
      "source": [
        "import nltk\n",
        "from nltk.corpus import wordnet\n",
        "\n",
        "nltk.download('punkt')\n",
        "nltk.download('averaged_perceptron_tagger')\n",
        "nltk.download('wordnet')\n",
        "\n",
        "def get_synonyms(word):\n",
        "    synonyms = set()\n",
        "    for syn in wordnet.synsets(word):\n",
        "        for lemma in syn.lemmas():\n",
        "            synonyms.add(lemma.name())\n",
        "    return synonyms\n",
        "\n",
        "def process_text_file(file_path):\n",
        "    with open(file_path, 'r') as file:\n",
        "        text = file.read()\n",
        "    return text  # Return the processed text\n",
        "\n",
        "text = process_text_file('sample.txt')\n",
        "\n",
        "# Tokenize the text into sentences\n",
        "sentences = nltk.sent_tokenize(text)\n",
        "\n",
        "for sentence in sentences:\n",
        "    # Tokenize each sentence into words\n",
        "    words = nltk.word_tokenize(sentence)\n",
        "\n",
        "    # Perform part-of-speech tagging\n",
        "    pos_tags = nltk.pos_tag(words)\n",
        "\n",
        "    # Extract verbs\n",
        "    verbs = [word for word, pos in pos_tags if pos.startswith('V')]\n",
        "\n",
        "    # Get synonyms for each verb\n",
        "    for verb in verbs:\n",
        "        synonyms = get_synonyms(verb)\n",
        "        print(f\"Verb: {verb}\")\n",
        "        print(f\"Synonyms: {', '.join(synonyms)}\\n\")"
      ],
      "metadata": {
        "colab": {
          "base_uri": "https://localhost:8080/"
        },
        "id": "gc6mYRLRSwmh",
        "outputId": "162a3b2a-99b3-4538-a81a-e8642e68d9c8"
      },
      "execution_count": 13,
      "outputs": [
        {
          "output_type": "stream",
          "name": "stdout",
          "text": [
            "Verb: is\n",
            "Synonyms: cost, exist, personify, constitute, be, follow, make_up, embody, equal, comprise, live, represent\n",
            "\n",
            "Verb: goes\n",
            "Synonyms: go_away, get_going, XTC, plump, survive, blend, turn, locomote, exit, start, proceed, tour, live_on, break, choke, break_down, expire, fling, go, whirl, rifle, give_out, crack, extend, conk_out, ecstasy, work, perish, pass_away, buy_the_farm, decease, function, sound, endure, give-up_the_ghost, last, offer, fail, live, hold_out, croak, pass, go_bad, run_short, cristal, give_way, go_game, X, spell, become, hold_up, drop_dead, conk, pop_off, Adam, depart, operate, lead, disco_biscuit, belong, blend_in, fit, die, hug_drug, run_low, get, run, cash_in_one's_chips, move, travel, kick_the_bucket, snuff_it\n",
            "\n",
            "Verb: captivating\n",
            "Synonyms: bewitch, enamour, entrancing, becharm, enamor, captivating, captivate, enchant, fascinating, charm, entrance, enthralling, catch, beguile, bewitching, capture, enchanting, fascinate, trance\n",
            "\n",
            "Verb: filled\n",
            "Synonyms: take, occupy, fulfil, fill, sate, satiate, fill_up, satisfy, meet, replete, fulfill, filled, make_full\n",
            "\n",
            "Verb: Conceived\n",
            "Synonyms: conceptualise, consider, gestate, conceptualize, believe, think, conceive\n",
            "\n",
            "Verb: launched\n",
            "Synonyms: set_in_motion, plunge, set_up, launch, found, establish\n",
            "\n",
            "Verb: introduced\n",
            "Synonyms: infix, enter, insert, inclose, stick_in, inaugurate, bring_out, preface, bring_in, usher_in, premise, introduce, innovate, enclose, acquaint, present, precede, put_in\n",
            "\n",
            "Verb: binds\n",
            "Synonyms: adhere, stick_to, obligate, stick, tie_down, attach, truss, hold, bond, constipate, oblige, hold_fast, bandage, tie_up, tie, bind\n",
            "\n"
          ]
        },
        {
          "output_type": "stream",
          "name": "stderr",
          "text": [
            "[nltk_data] Downloading package punkt to /root/nltk_data...\n",
            "[nltk_data]   Package punkt is already up-to-date!\n",
            "[nltk_data] Downloading package averaged_perceptron_tagger to\n",
            "[nltk_data]     /root/nltk_data...\n",
            "[nltk_data]   Package averaged_perceptron_tagger is already up-to-\n",
            "[nltk_data]       date!\n",
            "[nltk_data] Downloading package wordnet to /root/nltk_data...\n",
            "[nltk_data]   Package wordnet is already up-to-date!\n"
          ]
        }
      ]
    }
  ]
}